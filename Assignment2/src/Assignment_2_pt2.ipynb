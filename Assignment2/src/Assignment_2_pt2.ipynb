{
 "cells": [
  {
   "cell_type": "code",
   "execution_count": 1,
   "id": "48e7819f-4323-4d2f-8b1f-2cdf2f1c94a4",
   "metadata": {},
   "outputs": [
    {
     "name": "stderr",
     "output_type": "stream",
     "text": [
      "SLF4J: Class path contains multiple SLF4J bindings."
     ]
    },
    {
     "name": "stdout",
     "output_type": "stream",
     "text": [
      "25/05/09 19:28:48 WARN Utils: Service 'SparkUI' could not bind on port 4040. Attempting port 4041.\n"
     ]
    }
   ],
   "source": [
    "from pyspark.sql import SparkSession\n",
    "from pyspark.ml import Pipeline\n",
    "from pyspark.ml.feature import (\n",
    "    RegexTokenizer, StopWordsRemover, CountVectorizer,\n",
    "    IDF, ChiSqSelector\n",
    ")\n",
    "from pyspark.sql.functions import col, lower\n",
    "\n",
    "# Initialize Spark session\n",
    "spark = SparkSession.builder \\\n",
    "    .appName(\"AmazonReviewsTFIDF\") \\\n",
    "    .getOrCreate()\n"
   ]
  },
  {
   "cell_type": "code",
   "execution_count": 2,
   "id": "2e671a36-08aa-4954-96a7-949e465880e4",
   "metadata": {},
   "outputs": [],
   "source": [
    "# Load the dataset\n",
    "input_path = \"hdfs:///user/dic25_shared/amazon-reviews/full/reviews_devset.json\"\n",
    "df = spark.read.json(input_path)\n",
    "\n",
    "# Lowercase the text\n",
    "df = df.withColumn(\"reviewTextLower\", lower(col(\"reviewText\")))\n",
    "df = df.withColumn(\"label\", col(\"overall\"))  # Or use a constant like lit(0.0) if labels are not yet meaningful"
   ]
  },
  {
   "cell_type": "code",
   "execution_count": 3,
   "id": "70b42b38-219c-426e-ae2f-a2c9984fe102",
   "metadata": {},
   "outputs": [
    {
     "data": {
      "text/plain": [
       "DataFrame[asin: string, category: string, helpful: array<bigint>, overall: double, reviewText: string, reviewTime: string, reviewerID: string, reviewerName: string, summary: string, unixReviewTime: bigint, reviewTextLower: string, label: double]"
      ]
     },
     "execution_count": 3,
     "metadata": {},
     "output_type": "execute_result"
    }
   ],
   "source": [
    "df"
   ]
  },
  {
   "cell_type": "code",
   "execution_count": 4,
   "id": "a069355d-13a5-4edb-8837-b18f699a1215",
   "metadata": {},
   "outputs": [],
   "source": [
    "# Tokenizer: split on whitespace, punctuation, digits, etc.\n",
    "tokenizer = RegexTokenizer(\n",
    "    inputCol=\"reviewTextLower\",\n",
    "    outputCol=\"tokens\",\n",
    "    pattern = r\"\"\"[\\s\\d()\\[\\]{}.!?,;:+=\\-_\"'`~#@&*%€$§\\\\/]+\"\"\",\n",
    "    toLowercase=True\n",
    ")\n",
    "\n",
    "# Stopword remover\n",
    "remover = StopWordsRemover(\n",
    "    inputCol=\"tokens\",\n",
    "    outputCol=\"filtered_tokens\"\n",
    ")\n",
    "\n",
    "# CountVectorizer: builds vocabulary from corpus\n",
    "vectorizer = CountVectorizer(\n",
    "    inputCol=\"filtered_tokens\",\n",
    "    outputCol=\"raw_features\"\n",
    ")\n",
    "\n",
    "# TF-IDF\n",
    "idf = IDF(\n",
    "    inputCol=\"raw_features\",\n",
    "    outputCol=\"features\",\n",
    "    minDocFreq=5\n",
    ")\n",
    "\n",
    "# Chi-Square selector\n",
    "selector = ChiSqSelector(\n",
    "    numTopFeatures=2000,\n",
    "    featuresCol=\"features\",\n",
    "    outputCol=\"selected_features\",\n",
    "    labelCol=\"label\"\n",
    ")\n",
    "\n",
    "# Build the pipeline\n",
    "pipeline = Pipeline(stages=[tokenizer, remover, vectorizer, idf, selector])"
   ]
  },
  {
   "cell_type": "code",
   "execution_count": 5,
   "id": "0bac472f-9328-480b-bbcc-545ff26ff9f1",
   "metadata": {},
   "outputs": [],
   "source": [
    "# Fit the pipeline\n",
    "model = pipeline.fit(df)\n",
    "\n",
    "# Extract vocabulary and top terms\n",
    "cv_model = model.stages[2]  # CountVectorizerModel\n",
    "selector_model = model.stages[4]  # ChiSqSelectorModel\n",
    "\n",
    "vocab = cv_model.vocabulary\n",
    "top_indices = selector_model.selectedFeatures\n",
    "# Map indices to terms\n",
    "top_terms = [vocab[i] for i in top_indices]"
   ]
  },
  {
   "cell_type": "code",
   "execution_count": 6,
   "id": "193f2767-d007-4e66-aab5-d5679a9bc597",
   "metadata": {},
   "outputs": [
    {
     "name": "stdout",
     "output_type": "stream",
     "text": [
      "Top 2000 terms saved to output_ds.txt\n"
     ]
    }
   ],
   "source": [
    "# Save top terms to output file\n",
    "output_path = \"output_ds.txt\"  # Or to HDFS if needed\n",
    "with open(output_path, \"w\") as f:\n",
    "    for term in top_terms:\n",
    "        f.write(term + \"\\n\")\n",
    "\n",
    "print(f\"Top 2000 terms saved to {output_path}\")\n",
    "\n",
    "# Stop the Spark session\n",
    "spark.stop()\n"
   ]
  },
  {
   "cell_type": "code",
   "execution_count": null,
   "id": "51a725ba-ba6e-4b3b-99fc-be29babd8aee",
   "metadata": {},
   "outputs": [],
   "source": []
  }
 ],
 "metadata": {
  "kernelspec": {
   "display_name": "Python 3",
   "language": "python",
   "name": "python3"
  },
  "language_info": {
   "codemirror_mode": {
    "name": "ipython",
    "version": 3
   },
   "file_extension": ".py",
   "mimetype": "text/x-python",
   "name": "python",
   "nbconvert_exporter": "python",
   "pygments_lexer": "ipython3",
   "version": "3.9.20"
  }
 },
 "nbformat": 4,
 "nbformat_minor": 5
}
