{
 "cells": [
  {
   "cell_type": "code",
   "execution_count": 1,
   "id": "48e7819f-4323-4d2f-8b1f-2cdf2f1c94a4",
   "metadata": {},
   "outputs": [
    {
     "name": "stderr",
     "output_type": "stream",
     "text": [
      "SLF4J: Class path contains multiple SLF4J bindings."
     ]
    },
    {
     "name": "stdout",
     "output_type": "stream",
     "text": [
      "25/05/09 19:28:48 WARN Utils: Service 'SparkUI' could not bind on port 4040. Attempting port 4041.\n"
     ]
    }
   ],
   "source": [
    "from pyspark.sql import SparkSession\n",
    "from pyspark.ml import Pipeline\n",
    "from pyspark.ml.feature import (\n",
    "    RegexTokenizer, StopWordsRemover, CountVectorizer,\n",
    "    IDF, ChiSqSelector\n",
    ")\n",
    "from pyspark.sql.functions import col, lower\n",
    "\n",
    "# Initialize Spark session\n",
    "spark = SparkSession.builder \\\n",
    "    .appName(\"AmazonReviewsTFIDF\") \\\n",
    "    .getOrCreate()\n"
   ]
  },
  {
   "cell_type": "code",
   "execution_count": 2,
   "id": "2e671a36-08aa-4954-96a7-949e465880e4",
   "metadata": {},
   "outputs": [],
   "source": [
    "# Load the dataset\n",
    "input_path = \"hdfs:///user/dic25_shared/amazon-reviews/full/reviews_devset.json\"\n",
    "df = spark.read.json(input_path)\n",
    "\n",
    "# Lowercase the text\n",
    "df = df.withColumn(\"reviewTextLower\", lower(col(\"reviewText\")))\n",
    "df = df.withColumn(\"label\", col(\"overall\"))  # Or use a constant like lit(0.0) if labels are not yet meaningful"
   ]
  },
  {
   "cell_type": "code",
   "execution_count": 3,
   "id": "70b42b38-219c-426e-ae2f-a2c9984fe102",
   "metadata": {},
   "outputs": [
    {
     "data": {
      "text/plain": [
       "DataFrame[asin: string, category: string, helpful: array<bigint>, overall: double, reviewText: string, reviewTime: string, reviewerID: string, reviewerName: string, summary: string, unixReviewTime: bigint, reviewTextLower: string, label: double]"
      ]
     },
     "execution_count": 3,
     "metadata": {},
     "output_type": "execute_result"
    }
   ],
   "source": [
    "df"
   ]
  },
  {
   "cell_type": "code",
   "execution_count": 4,
   "id": "a069355d-13a5-4edb-8837-b18f699a1215",
   "metadata": {},
   "outputs": [],
   "source": [
    "# Tokenizer: split on whitespace, punctuation, digits, etc.\n",
    "tokenizer = RegexTokenizer(\n",
    "    inputCol=\"reviewTextLower\",\n",
    "    outputCol=\"tokens\",\n",
    "    pattern = r\"\"\"[\\s\\d()\\[\\]{}.!?,;:+=\\-_\"'`~#@&*%€$§\\\\/]+\"\"\",\n",
    "    toLowercase=True\n",
    ")\n",
    "\n",
    "# Stopword remover\n",
    "remover = StopWordsRemover(\n",
    "    inputCol=\"tokens\",\n",
    "    outputCol=\"filtered_tokens\"\n",
    ")\n",
    "\n",
    "# CountVectorizer: builds vocabulary from corpus\n",
    "vectorizer = CountVectorizer(\n",
    "    inputCol=\"filtered_tokens\",\n",
    "    outputCol=\"raw_features\"\n",
    ")\n",
    "\n",
    "# TF-IDF\n",
    "idf = IDF(\n",
    "    inputCol=\"raw_features\",\n",
    "    outputCol=\"features\",\n",
    "    minDocFreq=5\n",
    ")\n",
    "\n",
    "# Chi-Square selector\n",
    "selector = ChiSqSelector(\n",
    "    numTopFeatures=2000,\n",
    "    featuresCol=\"features\",\n",
    "    outputCol=\"selected_features\",\n",
    "    labelCol=\"label\"\n",
    ")\n",
    "\n",
    "# Build the pipeline\n",
    "pipeline = Pipeline(stages=[tokenizer, remover, vectorizer, idf, selector])"
   ]
  },
  {
   "cell_type": "code",
   "execution_count": 5,
   "id": "0bac472f-9328-480b-bbcc-545ff26ff9f1",
   "metadata": {},
   "outputs": [],
   "source": [
    "# Fit the pipeline\n",
    "model = pipeline.fit(df)\n",
    "\n",
    "# Extract vocabulary and top terms\n",
    "cv_model = model.stages[2]  # CountVectorizerModel\n",
    "selector_model = model.stages[4]  # ChiSqSelectorModel\n",
    "\n",
    "vocab = cv_model.vocabulary\n",
    "top_indices = selector_model.selectedFeatures\n",
    "# Map indices to terms\n",
    "top_terms = [vocab[i] for i in top_indices]"
   ]
  },
  {
   "cell_type": "code",
   "execution_count": 6,
   "id": "193f2767-d007-4e66-aab5-d5679a9bc597",
   "metadata": {},
   "outputs": [
    {
     "name": "stdout",
     "output_type": "stream",
     "text": [
      "Top 2000 terms saved to output_ds.txt\n"
     ]
    }
   ],
   "source": [
    "# Save top terms to output file\n",
    "output_path = \"output_ds.txt\"  # Or to HDFS if needed\n",
    "with open(output_path, \"w\") as f:\n",
    "    for term in top_terms:\n",
    "        f.write(term + \"\\n\")\n",
    "\n",
    "print(f\"Top 2000 terms saved to {output_path}\")\n",
    "\n",
    "# Stop the Spark session\n",
    "spark.stop()\n"
   ]
  },
  {
   "cell_type": "code",
   "execution_count": null,
   "id": "51a725ba-ba6e-4b3b-99fc-be29babd8aee",
   "metadata": {},
   "outputs": [],
   "source": []
  },
  {
   "cell_type": "markdown",
   "id": "426d1fd8",
   "metadata": {},
   "source": [
    "# Part 3"
   ]
  },
  {
   "cell_type": "markdown",
   "id": "e9b0dd95",
   "metadata": {},
   "source": [
    "## Split"
   ]
  },
  {
   "cell_type": "code",
   "execution_count": null,
   "id": "eb914673",
   "metadata": {},
   "outputs": [],
   "source": [
    "#split the data into training (60%), validation (20%), and test (20%) sets according to the exercise description\n",
    "train_val, test = df.randomSplit([0.8, 0.2], seed=42)\n",
    "train, val = train_val.randomSplit([0.75, 0.25], seed=42)\n"
   ]
  },
  {
   "cell_type": "markdown",
   "id": "5dc9600b",
   "metadata": {},
   "source": [
    "## Classification pipeline and evaluation"
   ]
  },
  {
   "cell_type": "code",
   "execution_count": null,
   "id": "a93e961b",
   "metadata": {},
   "outputs": [],
   "source": [
    "#LinearSVC - SVM classifier with linear kernel\n",
    "#OneVsRest - to handle multiclass classification by binary classifier\n",
    "from pyspark.ml.classification import LinearSVC, OneVsRest\n",
    "\n",
    "#to estimate performance using F1 as criterion\n",
    "from pyspark.ml.evaluation import MulticlassClassificationEvaluator\n",
    "\n",
    "#vector length normalization L2\n",
    "from pyspark.ml.feature import Normalizer"
   ]
  },
  {
   "cell_type": "code",
   "execution_count": null,
   "id": "9b974a0c",
   "metadata": {},
   "outputs": [],
   "source": [
    "#normalizer for L2 norm\n",
    "normalizer = Normalizer(inputCol=\"selected_features\", outputCol=\"norm_features\", p=2.0)\n",
    "\n",
    "#evaluator for F1 score\n",
    "evaluator = MulticlassClassificationEvaluator(labelCol=\"label\", predictionCol=\"prediction\", metricName=\"f1\")\n"
   ]
  },
  {
   "cell_type": "markdown",
   "id": "047e5ccf",
   "metadata": {},
   "source": [
    "## Grid search for parameter optimization"
   ]
  },
  {
   "cell_type": "code",
   "execution_count": null,
   "id": "44ed32d8",
   "metadata": {},
   "outputs": [],
   "source": [
    "results = []\n",
    "\n",
    "\"\"\"\n",
    "Possible parameters for comparison (according to the exercise description):\n",
    "- standardization of training features (2 values): True or False\n",
    "- number of features: 2000 (given in the exercise), 500 (much havier filtering)\n",
    "- regularization parameter (3 values): 0.1, 0.01 or 0.001\n",
    "- maximum number of iterations (2 values): 10 or 50\n",
    "\"\"\"\n",
    "\n",
    "#iterating through the possible parameter combinations\n",
    "for standardize in [True, False]:\n",
    "    for num_features in [2000, 500]:\n",
    "        selector.setNumTopFeatures(num_features)\n",
    "\n",
    "        for reg_param in [0.1, 0.01, 0.001]:\n",
    "            for max_iter in [10, 50]:\n",
    "                #create the Linear SVM model with the current parameters and using the one vs all strategy\n",
    "                svm = LinearSVC(featuresCol=\"norm_features\", labelCol=\"label\", regParam=reg_param, maxIter=max_iter, standardization=standardize)\n",
    "                ovr = OneVsRest(classifier=svm, featuresCol=\"norm_features\", labelCol=\"label\")\n",
    "\n",
    "                #adding the normalizer and the classifier to create full pipeline\n",
    "                pipeline = Pipeline(stages=[tokenizer, remover, vectorizer, idf, selector, normalizer, ovr])\n",
    "\n",
    "                #train on train set\n",
    "                model = pipeline.fit(train)\n",
    "\n",
    "                #evaluate on val set\n",
    "                predictions = model.transform(val)\n",
    "                f1 = evaluator.evaluate(predictions)\n",
    "\n",
    "                #save results\n",
    "                results.append({\n",
    "                    \"standardization\": standardize,\n",
    "                    \"num_features\": num_features,\n",
    "                    \"reg_param\": reg_param,\n",
    "                    \"max_iter\": max_iter,\n",
    "                    \"f1_score\": f1\n",
    "                })\n"
   ]
  },
  {
   "cell_type": "markdown",
   "id": "ce5818e7",
   "metadata": {},
   "source": [
    "## Grid search results - best parameters"
   ]
  },
  {
   "cell_type": "code",
   "execution_count": null,
   "id": "2001a58d",
   "metadata": {},
   "outputs": [],
   "source": [
    "import pandas as pd\n",
    "\n",
    "results_df = pd.DataFrame(results)\n",
    "results_df = results_df.sort_values(by=\"f1_score\", ascending=False)\n",
    "\n",
    "print(\"Grid Search Results:\")\n",
    "print(results_df)"
   ]
  },
  {
   "cell_type": "markdown",
   "id": "25e11c87",
   "metadata": {},
   "source": [
    "## Evaluate best model on test set"
   ]
  },
  {
   "cell_type": "code",
   "execution_count": null,
   "id": "57532e36",
   "metadata": {},
   "outputs": [],
   "source": [
    "#best model on best parameters\n",
    "best_params = results_df.iloc[0]\n",
    "selector.setNumTopFeatures(best_params[\"num_features\"])\n",
    "\n",
    "svm = LinearSVC(featuresCol = \"norm_features\", labelCol = \"label\", regParam = best_params[\"reg_param\"], maxIter = int(best_params[\"max_iter\"]), standardization = best_params[\"standardization\"])\n",
    "ovr = OneVsRest(classifier = svm, featuresCol = \"norm_features\", labelCol = \"label\")\n",
    "\n",
    "final_pipeline = Pipeline(stages = [tokenizer, remover, vectorizer, idf, selector, normalizer, ovr])\n",
    "final_model = final_pipeline.fit(train)\n",
    "\n",
    "#predict and evaluate on test set\n",
    "test_predictions = final_model.transform(test)\n",
    "f1_test = evaluator.evaluate(test_predictions)\n",
    "\n",
    "print(\"Best configuration F1 on test set:\", f1_test)\n"
   ]
  }
 ],
 "metadata": {
  "kernelspec": {
   "display_name": "Python 3",
   "language": "python",
   "name": "python3"
  },
  "language_info": {
   "codemirror_mode": {
    "name": "ipython",
    "version": 3
   },
   "file_extension": ".py",
   "mimetype": "text/x-python",
   "name": "python",
   "nbconvert_exporter": "python",
   "pygments_lexer": "ipython3",
   "version": "3.9.20"
  }
 },
 "nbformat": 4,
 "nbformat_minor": 5
}
