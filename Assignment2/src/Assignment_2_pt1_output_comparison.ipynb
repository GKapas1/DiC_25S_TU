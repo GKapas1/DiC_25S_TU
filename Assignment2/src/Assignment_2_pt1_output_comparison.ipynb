{
 "cells": [
  {
   "cell_type": "code",
   "execution_count": 6,
   "id": "33e6d7eb",
   "metadata": {},
   "outputs": [
    {
     "name": "stdout",
     "output_type": "stream",
     "text": [
      "                      Category  RDD_Term_Count  MR_Term_Count  Common_Terms  \\\n",
      "0             Apps_for_Android              75             75            52   \n",
      "1                   Automotive              75             75            50   \n",
      "2                         Baby              75             75            56   \n",
      "3                       Beauty              75             75            59   \n",
      "4                         Book              75             75            53   \n",
      "5                CDs_and_Vinyl              75             75            57   \n",
      "6   Cell_Phones_and_Accessorie              75             75            57   \n",
      "7   Clothing_Shoes_and_Jewelry              75             75            64   \n",
      "8                Digital_Music              75             75            23   \n",
      "9                   Electronic              75             75            61   \n",
      "10    Grocery_and_Gourmet_Food              75             75            50   \n",
      "11    Health_and_Personal_Care              75             75            45   \n",
      "12             Home_and_Kitche              75             75            57   \n",
      "13                Kindle_Store              75             75            14   \n",
      "14               Movies_and_TV              75             75            37   \n",
      "15          Musical_Instrument              75             75            37   \n",
      "16              Office_Product              75             75            45   \n",
      "17        Patio_Lawn_and_Garde              75             75            47   \n",
      "18                 Pet_Supplie              75             75            42   \n",
      "19          Sports_and_Outdoor              75             75            42   \n",
      "20  Tools_and_Home_Improvement              75             75            46   \n",
      "21               Toys_and_Game              75             75            39   \n",
      "\n",
      "    Jaccard_Similarity  \n",
      "0                0.531  \n",
      "1                0.500  \n",
      "2                0.596  \n",
      "3                0.648  \n",
      "4                0.546  \n",
      "5                0.613  \n",
      "6                0.613  \n",
      "7                0.744  \n",
      "8                0.181  \n",
      "9                0.685  \n",
      "10               0.500  \n",
      "11               0.429  \n",
      "12               0.613  \n",
      "13               0.103  \n",
      "14               0.327  \n",
      "15               0.327  \n",
      "16               0.429  \n",
      "17               0.456  \n",
      "18               0.389  \n",
      "19               0.389  \n",
      "20               0.442  \n",
      "21               0.351  \n"
     ]
    }
   ],
   "source": [
    "import pandas as pd\n",
    "from sklearn.metrics import jaccard_score\n",
    "from sklearn.preprocessing import MultiLabelBinarizer\n",
    "\n",
    "# Load the files\n",
    "with open(\"Assignment2/output/output_rdd.txt\", \"r\") as f:\n",
    "    rdd_lines = f.readlines()\n",
    "\n",
    "with open(\"Assignment1/output/output.txt\", \"r\") as f:\n",
    "    mr_lines = f.readlines()\n",
    "\n",
    "# Updated parser for MR lines with correct quote handling\n",
    "def parse_mr_line_corrected(line):\n",
    "    line = line.strip()\n",
    "    if not line:\n",
    "        return None, set()\n",
    "    if line.startswith('\"') and '\"' in line[1:]:\n",
    "        try:\n",
    "            first_quote_end = line.find('\"', 1)\n",
    "            category = line[1:first_quote_end]\n",
    "            term_string = line[first_quote_end + 2:].strip().strip('\"')\n",
    "            terms = [term.split(\":\")[0] for term in term_string.split() if \":\" in term]\n",
    "            return category, set(terms)\n",
    "        except Exception:\n",
    "            return None, set()\n",
    "    return None, set()\n",
    "\n",
    "# Apply corrected parsing\n",
    "mr_data_corrected = dict(parse_mr_line_corrected(line) for line in mr_lines if line.strip())\n",
    "\n",
    "# Re-compare with RDD data\n",
    "comparison_fixed = []\n",
    "all_categories = sorted(set(rdd_data.keys()) & set(mr_data_corrected.keys()))\n",
    "for category in all_categories:\n",
    "    rdd_terms = rdd_data[category]\n",
    "    mr_terms = mr_data_corrected[category]\n",
    "    intersection = rdd_terms & mr_terms\n",
    "    union = rdd_terms | mr_terms\n",
    "    jaccard = len(intersection) / len(union) if union else 0\n",
    "    comparison_fixed.append({\n",
    "        \"Category\": category,\n",
    "        \"RDD_Term_Count\": len(rdd_terms),\n",
    "        \"MR_Term_Count\": len(mr_terms),\n",
    "        \"Common_Terms\": len(intersection),\n",
    "        \"Jaccard_Similarity\": round(jaccard, 3)\n",
    "    })\n",
    "\n",
    "df_comparison_fixed = pd.DataFrame(comparison_fixed)\n",
    "\n",
    "print(df_comparison_fixed)\n"
   ]
  },
  {
   "cell_type": "code",
   "execution_count": 2,
   "id": "b61540a3",
   "metadata": {},
   "outputs": [
    {
     "name": "stdout",
     "output_type": "stream",
     "text": [
      "Collecting ace_tools\n",
      "  Downloading ace_tools-0.0-py3-none-any.whl (1.1 kB)\n",
      "Installing collected packages: ace_tools\n",
      "Successfully installed ace_tools-0.0\n"
     ]
    }
   ],
   "source": [
    "!pip install ace_tools"
   ]
  },
  {
   "cell_type": "code",
   "execution_count": null,
   "id": "71942f98",
   "metadata": {},
   "outputs": [],
   "source": []
  }
 ],
 "metadata": {
  "kernelspec": {
   "display_name": "Python 3 (ipykernel)",
   "language": "python",
   "name": "python3"
  },
  "language_info": {
   "codemirror_mode": {
    "name": "ipython",
    "version": 3
   },
   "file_extension": ".py",
   "mimetype": "text/x-python",
   "name": "python",
   "nbconvert_exporter": "python",
   "pygments_lexer": "ipython3",
   "version": "3.9.13"
  }
 },
 "nbformat": 4,
 "nbformat_minor": 5
}
